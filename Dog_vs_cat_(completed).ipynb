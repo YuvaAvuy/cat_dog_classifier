{
  "nbformat": 4,
  "nbformat_minor": 0,
  "metadata": {
    "colab": {
      "provenance": [],
      "authorship_tag": "ABX9TyOG/V0kSwdD9xlEvqyIk1JT",
      "include_colab_link": true
    },
    "kernelspec": {
      "name": "python3",
      "display_name": "Python 3"
    },
    "language_info": {
      "name": "python"
    }
  },
  "cells": [
    {
      "cell_type": "markdown",
      "metadata": {
        "id": "view-in-github",
        "colab_type": "text"
      },
      "source": [
        "<a href=\"https://colab.research.google.com/github/YuvaAvuy/cat_dog_classifier/blob/main/Dog_vs_cat_(completed).ipynb\" target=\"_parent\"><img src=\"https://colab.research.google.com/assets/colab-badge.svg\" alt=\"Open In Colab\"/></a>"
      ]
    },
    {
      "cell_type": "code",
      "execution_count": null,
      "metadata": {
        "colab": {
          "base_uri": "https://localhost:8080/"
        },
        "id": "wgVkYqadK8in",
        "outputId": "7e0a8f55-d61e-4e12-b6ff-46822c68a9ba"
      },
      "outputs": [
        {
          "output_type": "stream",
          "name": "stdout",
          "text": [
            "Columns in the dataset: Index(['Breed'], dtype='object')\n",
            "Enter the path of the image: /content/images (2).jpeg\n",
            "1/1 [==============================] - 1s 694ms/step\n",
            "Predictions:\n",
            "Persian_cat: 0.91\n",
            "Pomeranian: 0.08\n",
            "Pekinese: 0.00\n",
            "lion: 0.00\n",
            "chow: 0.00\n",
            "\n",
            "Predicted class: The image is a Cat\n"
          ]
        }
      ],
      "source": [
        "from tensorflow.keras.preprocessing import image\n",
        "from tensorflow.keras.applications.vgg16 import VGG16, preprocess_input, decode_predictions\n",
        "import numpy as np\n",
        "from PIL import Image\n",
        "import pandas as pd\n",
        "\n",
        "# Load the VGG16 model pre-trained on ImageNet data\n",
        "model = VGG16(weights='imagenet')\n",
        "\n",
        "# Specify the path to the breeds CSV file in Colab\n",
        "breeds_csv_path = '/content/labels.csv'\n",
        "\n",
        "# Load the dataset from the CSV file\n",
        "breeds_df = pd.read_csv(breeds_csv_path)\n",
        "\n",
        "# Print the columns in the dataset\n",
        "print(\"Columns in the dataset:\", breeds_df.columns)\n",
        "\n",
        "def classify_image_path(image_path):\n",
        "    # Load and preprocess the image\n",
        "    img = Image.open(image_path)\n",
        "    img = img.resize((224, 224))\n",
        "    x = image.img_to_array(img)\n",
        "    x = np.expand_dims(x, axis=0)\n",
        "    x = preprocess_input(x)\n",
        "\n",
        "    # Predict the class of the image\n",
        "    predictions = model.predict(x)\n",
        "\n",
        "    # Decode the predictions\n",
        "    decoded_predictions = decode_predictions(predictions)\n",
        "\n",
        "    # Print the top prediction\n",
        "    print(\"Predictions:\")\n",
        "    for _, class_name, score in decoded_predictions[0]:\n",
        "        print(f\"{class_name}: {score:.2f}\")\n",
        "\n",
        "    # Get the top predicted class name\n",
        "    top_class_name = decoded_predictions[0][0][1]\n",
        "\n",
        "    # Check if the predicted class is related to 'dog' or 'cat'\n",
        "    if any(breed.lower() in top_class_name.lower() for breed in breeds_df['Breed'].str.lower()):\n",
        "        return 'Dog'\n",
        "    elif 'cat' in top_class_name.lower():\n",
        "        return 'Cat'\n",
        "    else:\n",
        "        return 'Uncertain'\n",
        "\n",
        "# Example usage\n",
        "image_path = input(\"Enter the path of the image: \")\n",
        "predicted_class = classify_image_path(image_path)\n",
        "print(f\"\\nPredicted class: The image is a {predicted_class}\")\n"
      ]
    },
    {
      "cell_type": "code",
      "source": [],
      "metadata": {
        "id": "RPa1DQCXQlYI"
      },
      "execution_count": null,
      "outputs": []
    }
  ]
}